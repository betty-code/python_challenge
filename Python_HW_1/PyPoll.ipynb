{
 "cells": [
  {
   "cell_type": "code",
   "execution_count": 19,
   "metadata": {},
   "outputs": [],
   "source": [
    "import os \n",
    "import csv \n",
    "\n",
    "election_data_cvs = os.path.join('..','Python_challenge','election_data.csv')"
   ]
  },
  {
   "cell_type": "code",
   "execution_count": 26,
   "metadata": {},
   "outputs": [
    {
     "ename": "TypeError",
     "evalue": "object of type 'function' has no len()",
     "output_type": "error",
     "traceback": [
      "\u001b[0;31m---------------------------------------------------------------------------\u001b[0m",
      "\u001b[0;31mTypeError\u001b[0m                                 Traceback (most recent call last)",
      "\u001b[0;32m<ipython-input-26-3474d0ce41b7>\u001b[0m in \u001b[0;36m<module>\u001b[0;34m\u001b[0m\n\u001b[1;32m     12\u001b[0m \u001b[0;31m#Find the total_vote for each candidate by summing the total number of votes in column 3.\u001b[0m\u001b[0;34m\u001b[0m\u001b[0;34m\u001b[0m\u001b[0;34m\u001b[0m\u001b[0m\n\u001b[1;32m     13\u001b[0m \u001b[0;32mfor\u001b[0m \u001b[0mvotes\u001b[0m \u001b[0;32min\u001b[0m \u001b[0mrange\u001b[0m\u001b[0;34m(\u001b[0m\u001b[0;36m0\u001b[0m\u001b[0;34m,\u001b[0m\u001b[0;36m3\u001b[0m\u001b[0;34m)\u001b[0m\u001b[0;34m:\u001b[0m\u001b[0;34m\u001b[0m\u001b[0;34m\u001b[0m\u001b[0m\n\u001b[0;32m---> 14\u001b[0;31m     \u001b[0mtotal_votes\u001b[0m \u001b[0;34m=\u001b[0m \u001b[0mlen\u001b[0m\u001b[0;34m(\u001b[0m\u001b[0mcandidate_votes\u001b[0m\u001b[0;34m)\u001b[0m\u001b[0;34m\u001b[0m\u001b[0;34m\u001b[0m\u001b[0m\n\u001b[0m\u001b[1;32m     15\u001b[0m     \u001b[0mtotal_Khan\u001b[0m \u001b[0;34m=\u001b[0m \u001b[0mlen\u001b[0m\u001b[0;34m(\u001b[0m\u001b[0mKhan_votes\u001b[0m\u001b[0;34m)\u001b[0m\u001b[0;34m\u001b[0m\u001b[0;34m\u001b[0m\u001b[0m\n\u001b[1;32m     16\u001b[0m     \u001b[0mtotal_Correy\u001b[0m \u001b[0;34m=\u001b[0m \u001b[0mlen\u001b[0m\u001b[0;34m(\u001b[0m\u001b[0mCorrey_votes\u001b[0m\u001b[0;34m)\u001b[0m\u001b[0;34m\u001b[0m\u001b[0;34m\u001b[0m\u001b[0m\n",
      "\u001b[0;31mTypeError\u001b[0m: object of type 'function' has no len()"
     ]
    }
   ],
   "source": [
    "#List the candidates by placing them in a list. \n",
    "candidates = [\"Khan\",\"Correy\",\"Li\",\"OTooley\"]\n",
    "\n",
    "#Define the functions and have it accept \"election_data\" as sole parameter. \n",
    "def candidate_votes(election_data):\n",
    "    Khan_votes = str(election_data[\"Khan\"])\n",
    "    Correy_votes = str(election_data[\"Correy\"])\n",
    "    Li_votes = str(election_data[\"Li\"])\n",
    "    OTooley = str(election_data[\"OTooley\"])\n",
    "    return  \n",
    "\n",
    "#Find the total_vote for each candidate by summing the total number of votes in column 3. \n",
    "for votes in range(0,3):\n",
    "    total_votes = len(candidate_votes)\n",
    "    total_Khan = len(Khan_votes)\n",
    "    total_Correy = len(Correy_votes)\n",
    "    total_Li = len(Li_votes)\n",
    "    total_OTooley = len(OTooley_votes)      \n"
   ]
  },
  {
   "cell_type": "code",
   "execution_count": null,
   "metadata": {},
   "outputs": [],
   "source": [
    "#Find the percent_vote for each candidate, which can be found by taking each candidate_vote /total_vote.\n",
    "\n",
    "Khan_percent = total_Khan / total_votes \n",
    "Correy_percent = total_Correy / total_votes \n",
    "Li_percent = total_Li / total_votes \n",
    "OTooley_percent = total_OTooley / total_votes \n",
    "\n",
    "#Filter for the highest percentage and find the winner. \n"
   ]
  },
  {
   "cell_type": "code",
   "execution_count": null,
   "metadata": {},
   "outputs": [],
   "source": [
    "#Print the total number of votes. \n",
    "print(total_votes)\n",
    "\n",
    "#print the individual candidate: percent_vote, total_vote. \n",
    "print(f\" ELECTION RESULTS: {str(candidate[1])+ Khan_percent + total_Khan}\")\n",
    "print(f\"{str(candidate[2])+ Correy_percent + total_Correy}\")\n",
    "print(f\"{str(candidate[3])+ Li_percent + total_Li})\n",
    "print(f\"{str(candidate[4])+ OTooley_percent + total_OTooley}\")\n",
    "\n",
    "#Print the winner. \n"
   ]
  },
  {
   "cell_type": "code",
   "execution_count": null,
   "metadata": {},
   "outputs": [],
   "source": []
  }
 ],
 "metadata": {
  "kernelspec": {
   "display_name": "Python 3",
   "language": "python",
   "name": "python3"
  },
  "language_info": {
   "codemirror_mode": {
    "name": "ipython",
    "version": 3
   },
   "file_extension": ".py",
   "mimetype": "text/x-python",
   "name": "python",
   "nbconvert_exporter": "python",
   "pygments_lexer": "ipython3",
   "version": "3.7.4"
  }
 },
 "nbformat": 4,
 "nbformat_minor": 4
}
